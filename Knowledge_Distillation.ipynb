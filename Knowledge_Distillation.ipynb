{
  "nbformat": 4,
  "nbformat_minor": 0,
  "metadata": {
    "accelerator": "GPU",
    "colab": {
      "name": "Knowledge Distillation.ipynb",
      "provenance": [],
      "collapsed_sections": [],
      "machine_shape": "hm"
    },
    "kernelspec": {
      "display_name": "Python 3",
      "name": "python3"
    }
  },
  "cells": [
    {
      "cell_type": "code",
      "metadata": {
        "id": "QoGApqvo4Q8i"
      },
      "source": [
        "import tensorflow as tf\n",
        "from tensorflow import keras\n",
        "from tensorflow.keras import layers\n",
        "from tensorflow.keras.layers import *\n",
        "import numpy as np\n",
        "from numpy.random import seed\n",
        "seed(1)\n",
        "tf.random.set_seed(1)\n",
        "random.seed(1)"
      ],
      "execution_count": null,
      "outputs": []
    },
    {
      "cell_type": "code",
      "metadata": {
        "id": "OO_H95_zEPgy"
      },
      "source": [
        "class Distiller(keras.Model):\n",
        "    def __init__(self, student, teacher):\n",
        "        super(Distiller, self).__init__()\n",
        "        self.teacher = teacher\n",
        "        self.student = student\n",
        "\n",
        "    def compile(\n",
        "        self,\n",
        "        optimizer,\n",
        "        metrics,\n",
        "        student_loss_fn, \n",
        "        distillation_loss_fn,\n",
        "        alpha,\n",
        "        temperature,\n",
        "    ):\n",
        "        super(Distiller, self).compile(optimizer=optimizer, metrics=metrics)\n",
        "        self.student_loss_fn = student_loss_fn\n",
        "        self.distillation_loss_fn = distillation_loss_fn\n",
        "        self.alpha = alpha\n",
        "        self.temperature = temperature\n",
        "\n",
        "    def train_step(self, data):\n",
        "        x, y = data\n",
        "        teacher_predictions = self.teacher(x, training=False)\n",
        "   \n",
        "        with tf.GradientTape() as tape:\n",
        "            student_predictions = self.student(x, training=True)\n",
        "            student_loss = self.student_loss_fn(y, student_predictions)\n",
        "            distillation_loss = self.distillation_loss_fn(\n",
        "                tf.nn.softmax(teacher_predictions / self.temperature, axis=1),\n",
        "                tf.nn.softmax(student_predictions / self.temperature, axis=1),\n",
        "             )\n",
        "\n",
        "            loss = self.alpha * student_loss + (1 - self.alpha) * distillation_loss\n",
        "        trainable_vars = self.student.trainable_variables\n",
        "        gradients = tape.gradient(loss, trainable_vars)\n",
        "\n",
        "        self.optimizer.apply_gradients(zip(gradients, trainable_vars))\n",
        "\n",
        "        self.compiled_metrics.update_state(y, student_predictions)\n",
        "\n",
        "        results = {m.name: m.result() for m in self.metrics}\n",
        "        results.update(\n",
        "            {\"student_loss\": student_loss, \"distillation_loss\": distillation_loss}\n",
        "        )\n",
        "        return results\n",
        "\n",
        "    def test_step(self, data):\n",
        "        x, y = data\n",
        "        y_prediction = self.student(x, training=False)\n",
        "        student_loss = self.student_loss_fn(y, y_prediction)\n",
        "\n",
        "        self.compiled_metrics.update_state(y, y_prediction)\n",
        "\n",
        "        results = {m.name: m.result() for m in self.metrics}\n",
        "        results.update({\"student_loss\": student_loss})\n",
        "        return results"
      ],
      "execution_count": null,
      "outputs": []
    },
    {
      "cell_type": "code",
      "metadata": {
        "colab": {
          "base_uri": "https://localhost:8080/"
        },
        "id": "jqh-tOP6eWSR",
        "outputId": "682dc7e6-0300-492e-9cea-910243c1d350"
      },
      "source": [
        "(x_train, y_train), (x_test, y_test) = keras.datasets.cifar10.load_data()\n",
        "x_train = keras.applications.resnet_v2.preprocess_input(x_train)\n",
        "x_test = keras.applications.resnet_v2.preprocess_input(x_test)\n",
        "\n",
        "x_train.shape"
      ],
      "execution_count": null,
      "outputs": [
        {
          "output_type": "execute_result",
          "data": {
            "text/plain": [
              "(50000, 32, 32, 3)"
            ]
          },
          "metadata": {
            "tags": []
          },
          "execution_count": 3
        }
      ]
    },
    {
      "cell_type": "code",
      "metadata": {
        "colab": {
          "base_uri": "https://localhost:8080/"
        },
        "id": "Sb6C_TeYivph",
        "outputId": "040d77db-96a0-4318-d31f-7e27ba6d476e"
      },
      "source": [
        "inputs = keras.Input(shape=(32, 32, 3))\n",
        "\n",
        "upscale = keras.layers.Lambda(lambda x: tf.image.resize(x, [64, 64]))(inputs)\n",
        "input_shape = (64, 64, 3)\n",
        "\n",
        "teacher = keras.applications.ResNet152V2(\n",
        "    include_top=False,\n",
        "    input_tensor=upscale,\n",
        "    input_shape=input_shape,\n",
        "    pooling='avg',\n",
        "    weights = 'imagenet'\n",
        ")\n",
        "\n",
        "teacher.compile(\n",
        "    optimizer=keras.optimizers.Adam(),\n",
        "    loss=keras.losses.SparseCategoricalCrossentropy(from_logits=True),\n",
        "    metrics=[keras.metrics.SparseCategoricalAccuracy()],\n",
        ")\n",
        "teacher_trained = teacher.fit(x_train, y_train, epochs = 10, batch_size = 128)\n",
        "teacher.evaluate(x_test, y_test)"
      ],
      "execution_count": null,
      "outputs": [
        {
          "output_type": "stream",
          "text": [
            "Epoch 1/10\n",
            "391/391 [==============================] - 96s 195ms/step - loss: 5.4951 - sparse_categorical_accuracy: 0.4542\n",
            "Epoch 2/10\n",
            "391/391 [==============================] - 75s 193ms/step - loss: 3.8357 - sparse_categorical_accuracy: 0.6892\n",
            "Epoch 3/10\n",
            "391/391 [==============================] - 75s 191ms/step - loss: 3.0165 - sparse_categorical_accuracy: 0.7523\n",
            "Epoch 4/10\n",
            "391/391 [==============================] - 75s 192ms/step - loss: 1.9911 - sparse_categorical_accuracy: 0.8004\n",
            "Epoch 5/10\n",
            "391/391 [==============================] - 75s 192ms/step - loss: 1.3298 - sparse_categorical_accuracy: 0.8455\n",
            "Epoch 6/10\n",
            "391/391 [==============================] - 75s 193ms/step - loss: 0.9433 - sparse_categorical_accuracy: 0.8803\n",
            "Epoch 7/10\n",
            "391/391 [==============================] - 75s 192ms/step - loss: 0.6995 - sparse_categorical_accuracy: 0.9019\n",
            "Epoch 8/10\n",
            "391/391 [==============================] - 75s 191ms/step - loss: 0.5265 - sparse_categorical_accuracy: 0.9214\n",
            "Epoch 9/10\n",
            "391/391 [==============================] - 75s 192ms/step - loss: 0.4208 - sparse_categorical_accuracy: 0.9322\n",
            "Epoch 10/10\n",
            "391/391 [==============================] - 75s 191ms/step - loss: 0.3191 - sparse_categorical_accuracy: 0.9485\n",
            "313/313 [==============================] - 13s 33ms/step - loss: 1.1273 - sparse_categorical_accuracy: 0.7966\n"
          ],
          "name": "stdout"
        },
        {
          "output_type": "execute_result",
          "data": {
            "text/plain": [
              "[1.127295970916748, 0.7965999841690063]"
            ]
          },
          "metadata": {
            "tags": []
          },
          "execution_count": 4
        }
      ]
    },
    {
      "cell_type": "code",
      "metadata": {
        "colab": {
          "base_uri": "https://localhost:8080/"
        },
        "id": "TeeO2HXeI57Y",
        "outputId": "b90ca300-97e5-47cf-b90e-d3d1c0734e9c"
      },
      "source": [
        "student = keras.applications.ResNet50V2(\n",
        "    include_top=False,\n",
        "    input_tensor=upscale,\n",
        "    input_shape=input_shape,\n",
        "    pooling='avg',\n",
        "    weights = 'imagenet'\n",
        ")\n",
        "student_scratch = keras.models.clone_model(student)\n",
        "\n",
        "distiller = Distiller(student=student, teacher=teacher)\n",
        "distiller.compile(\n",
        "    optimizer=keras.optimizers.Adam(),\n",
        "    metrics=[keras.metrics.SparseCategoricalAccuracy()],\n",
        "    student_loss_fn=keras.losses.SparseCategoricalCrossentropy(from_logits=True),\n",
        "    distillation_loss_fn=keras.losses.KLDivergence(),\n",
        "    alpha=0.1,\n",
        "    temperature=2,\n",
        ")\n",
        "\n",
        "distilled = distiller.fit(x_train, y_train, epochs=10, batch_size=128)\n",
        "distiller.evaluate(x_test, y_test)"
      ],
      "execution_count": null,
      "outputs": [
        {
          "output_type": "stream",
          "text": [
            "Epoch 1/10\n",
            "391/391 [==============================] - 60s 131ms/step - sparse_categorical_accuracy: 0.5048 - student_loss: 3.7975 - distillation_loss: 0.2484\n",
            "Epoch 2/10\n",
            "391/391 [==============================] - 52s 133ms/step - sparse_categorical_accuracy: 0.7507 - student_loss: 2.7146 - distillation_loss: 0.1808\n",
            "Epoch 3/10\n",
            "391/391 [==============================] - 52s 133ms/step - sparse_categorical_accuracy: 0.7889 - student_loss: 2.1694 - distillation_loss: 0.1469\n",
            "Epoch 4/10\n",
            "391/391 [==============================] - 52s 134ms/step - sparse_categorical_accuracy: 0.8263 - student_loss: 1.6840 - distillation_loss: 0.1174\n",
            "Epoch 5/10\n",
            "391/391 [==============================] - 52s 133ms/step - sparse_categorical_accuracy: 0.8592 - student_loss: 1.1108 - distillation_loss: 0.0884\n",
            "Epoch 6/10\n",
            "391/391 [==============================] - 52s 134ms/step - sparse_categorical_accuracy: 0.8903 - student_loss: 0.7785 - distillation_loss: 0.0690\n",
            "Epoch 7/10\n",
            "391/391 [==============================] - 52s 134ms/step - sparse_categorical_accuracy: 0.9148 - student_loss: 0.5570 - distillation_loss: 0.0557\n",
            "Epoch 8/10\n",
            "391/391 [==============================] - 52s 134ms/step - sparse_categorical_accuracy: 0.9313 - student_loss: 0.4372 - distillation_loss: 0.0484\n",
            "Epoch 9/10\n",
            "391/391 [==============================] - 52s 134ms/step - sparse_categorical_accuracy: 0.9484 - student_loss: 0.3198 - distillation_loss: 0.0406\n",
            "Epoch 10/10\n",
            "391/391 [==============================] - 52s 132ms/step - sparse_categorical_accuracy: 0.9584 - student_loss: 0.2677 - distillation_loss: 0.0365\n",
            "313/313 [==============================] - 5s 14ms/step - sparse_categorical_accuracy: 0.8241 - student_loss: 0.9110\n"
          ],
          "name": "stdout"
        },
        {
          "output_type": "execute_result",
          "data": {
            "text/plain": [
              "[0.8241000175476074, 0.78266441822052]"
            ]
          },
          "metadata": {
            "tags": []
          },
          "execution_count": 5
        }
      ]
    },
    {
      "cell_type": "code",
      "metadata": {
        "colab": {
          "base_uri": "https://localhost:8080/"
        },
        "id": "Z1UE632Nr2tH",
        "outputId": "ace222c9-7197-486b-974b-8f9f28d5db1d"
      },
      "source": [
        "student_scratch.compile(\n",
        "    optimizer=keras.optimizers.Adam(),\n",
        "    loss=keras.losses.SparseCategoricalCrossentropy(from_logits=True),\n",
        "    metrics=[keras.metrics.SparseCategoricalAccuracy()],\n",
        ")\n",
        "\n",
        "student_trained = student_scratch.fit(x_train, y_train, epochs=10, batch_size = 128)\n",
        "student_scratch.evaluate(x_test, y_test)"
      ],
      "execution_count": null,
      "outputs": [
        {
          "output_type": "stream",
          "text": [
            "Epoch 1/10\n",
            "391/391 [==============================] - 35s 77ms/step - loss: 6.2109 - sparse_categorical_accuracy: 0.3777\n",
            "Epoch 2/10\n",
            "391/391 [==============================] - 30s 77ms/step - loss: 4.2271 - sparse_categorical_accuracy: 0.6216\n",
            "Epoch 3/10\n",
            "391/391 [==============================] - 30s 77ms/step - loss: 2.8920 - sparse_categorical_accuracy: 0.7088\n",
            "Epoch 4/10\n",
            "391/391 [==============================] - 30s 77ms/step - loss: 1.9104 - sparse_categorical_accuracy: 0.7719\n",
            "Epoch 5/10\n",
            "391/391 [==============================] - 30s 77ms/step - loss: 1.2695 - sparse_categorical_accuracy: 0.8209\n",
            "Epoch 6/10\n",
            "391/391 [==============================] - 30s 77ms/step - loss: 0.8721 - sparse_categorical_accuracy: 0.8602\n",
            "Epoch 7/10\n",
            "391/391 [==============================] - 30s 77ms/step - loss: 0.5837 - sparse_categorical_accuracy: 0.8956\n",
            "Epoch 8/10\n",
            "391/391 [==============================] - 29s 74ms/step - loss: 0.4271 - sparse_categorical_accuracy: 0.9182\n",
            "Epoch 9/10\n",
            "391/391 [==============================] - 30s 76ms/step - loss: 0.3126 - sparse_categorical_accuracy: 0.9359\n",
            "Epoch 10/10\n",
            "391/391 [==============================] - 30s 77ms/step - loss: 0.2329 - sparse_categorical_accuracy: 0.9515\n",
            "313/313 [==============================] - 6s 16ms/step - loss: 1.1713 - sparse_categorical_accuracy: 0.7701\n"
          ],
          "name": "stdout"
        },
        {
          "output_type": "execute_result",
          "data": {
            "text/plain": [
              "[1.1713025569915771, 0.7700999975204468]"
            ]
          },
          "metadata": {
            "tags": []
          },
          "execution_count": 6
        }
      ]
    },
    {
      "cell_type": "markdown",
      "metadata": {
        "id": "V2gHJNt3mPbl"
      },
      "source": [
        "# DISTILLATION ON CIFAR100"
      ]
    },
    {
      "cell_type": "code",
      "metadata": {
        "colab": {
          "base_uri": "https://localhost:8080/"
        },
        "id": "_i-gjl8h5V5P",
        "outputId": "43e38406-3c74-4bf9-a5a7-a71495a03f4f"
      },
      "source": [
        "(x_train100, y_train100), (x_test100, y_test100) = keras.datasets.cifar100.load_data()\n",
        "x_train100 = keras.applications.resnet_v2.preprocess_input(x_train100)\n",
        "x_test100 = keras.applications.resnet_v2.preprocess_input(x_test100)\n",
        "x_train100.shape"
      ],
      "execution_count": null,
      "outputs": [
        {
          "output_type": "execute_result",
          "data": {
            "text/plain": [
              "(50000, 32, 32, 3)"
            ]
          },
          "metadata": {
            "tags": []
          },
          "execution_count": 7
        }
      ]
    },
    {
      "cell_type": "code",
      "metadata": {
        "colab": {
          "base_uri": "https://localhost:8080/"
        },
        "id": "TweAK2-EGfKk",
        "outputId": "4f1bea30-c830-4b55-bede-e61e50098f80"
      },
      "source": [
        "inputs = keras.Input(shape=(32, 32, 3))\n",
        "\n",
        "upscale = keras.layers.Lambda(lambda x: tf.image.resize(x, [64, 64]))(inputs)\n",
        "teacher100 = keras.applications.ResNet152V2(\n",
        "    include_top=False,\n",
        "    input_tensor=upscale,\n",
        "    input_shape=input_shape,\n",
        "    pooling='avg',\n",
        "    weights = 'imagenet'\n",
        ")\n",
        "\n",
        "teacher100.compile(\n",
        "    optimizer=keras.optimizers.Adam(),\n",
        "    loss=keras.losses.SparseCategoricalCrossentropy(from_logits=True),\n",
        "    metrics=[keras.metrics.SparseCategoricalAccuracy()],\n",
        ")\n",
        "teacher_trained100 = teacher100.fit(x_train100, y_train100, epochs = 15, batch_size = 128)\n",
        "teacher100.evaluate(x_test100, y_test100)"
      ],
      "execution_count": null,
      "outputs": [
        {
          "output_type": "stream",
          "text": [
            "Epoch 1/15\n",
            "391/391 [==============================] - 93s 193ms/step - loss: 5.9796 - sparse_categorical_accuracy: 0.1696\n",
            "Epoch 2/15\n",
            "391/391 [==============================] - 76s 194ms/step - loss: 3.3511 - sparse_categorical_accuracy: 0.4530\n",
            "Epoch 3/15\n",
            "391/391 [==============================] - 75s 191ms/step - loss: 2.6326 - sparse_categorical_accuracy: 0.5564\n",
            "Epoch 4/15\n",
            "391/391 [==============================] - 76s 193ms/step - loss: 1.9869 - sparse_categorical_accuracy: 0.6490\n",
            "Epoch 5/15\n",
            "391/391 [==============================] - 76s 193ms/step - loss: 1.5825 - sparse_categorical_accuracy: 0.7203\n",
            "Epoch 6/15\n",
            "391/391 [==============================] - 75s 193ms/step - loss: 1.3067 - sparse_categorical_accuracy: 0.7735\n",
            "Epoch 7/15\n",
            "391/391 [==============================] - 75s 192ms/step - loss: 1.1891 - sparse_categorical_accuracy: 0.8036\n",
            "Epoch 8/15\n",
            "391/391 [==============================] - 75s 193ms/step - loss: 1.0814 - sparse_categorical_accuracy: 0.8248\n",
            "Epoch 9/15\n",
            "391/391 [==============================] - 76s 193ms/step - loss: 0.9489 - sparse_categorical_accuracy: 0.8452\n",
            "Epoch 10/15\n",
            "391/391 [==============================] - 76s 193ms/step - loss: 0.8975 - sparse_categorical_accuracy: 0.8577\n",
            "Epoch 11/15\n",
            "391/391 [==============================] - 76s 193ms/step - loss: 0.8715 - sparse_categorical_accuracy: 0.8632\n",
            "Epoch 12/15\n",
            "391/391 [==============================] - 76s 193ms/step - loss: 0.8544 - sparse_categorical_accuracy: 0.8663\n",
            "Epoch 13/15\n",
            "391/391 [==============================] - 76s 193ms/step - loss: 0.8379 - sparse_categorical_accuracy: 0.8684\n",
            "Epoch 14/15\n",
            "391/391 [==============================] - 75s 191ms/step - loss: 0.8035 - sparse_categorical_accuracy: 0.8760\n",
            "Epoch 15/15\n",
            "391/391 [==============================] - 74s 190ms/step - loss: 0.7973 - sparse_categorical_accuracy: 0.8782\n",
            "313/313 [==============================] - 13s 33ms/step - loss: 2.9845 - sparse_categorical_accuracy: 0.5323\n"
          ],
          "name": "stdout"
        },
        {
          "output_type": "execute_result",
          "data": {
            "text/plain": [
              "[2.984543561935425, 0.5322999954223633]"
            ]
          },
          "metadata": {
            "tags": []
          },
          "execution_count": 8
        }
      ]
    },
    {
      "cell_type": "code",
      "metadata": {
        "colab": {
          "base_uri": "https://localhost:8080/"
        },
        "id": "PuWP_LD-Gh5a",
        "outputId": "86f2e204-fb94-4274-b588-215ef4a8e60e"
      },
      "source": [
        "student100 = keras.applications.ResNet50V2(\n",
        "    include_top=False,\n",
        "    input_tensor=upscale,\n",
        "    input_shape=input_shape,\n",
        "    pooling='avg',\n",
        "    weights = 'imagenet'\n",
        ")\n",
        "student_scratch100 = keras.models.clone_model(student100)\n",
        "\n",
        "distiller = Distiller(student=student100, teacher=teacher100)\n",
        "distiller.compile(\n",
        "    optimizer=keras.optimizers.Adam(),\n",
        "    metrics=[keras.metrics.SparseCategoricalAccuracy()],\n",
        "    student_loss_fn=keras.losses.SparseCategoricalCrossentropy(from_logits=True),\n",
        "    distillation_loss_fn=keras.losses.KLDivergence(),\n",
        "    alpha=0.3,\n",
        "    temperature=2,\n",
        ")\n",
        "\n",
        "distiller_trained100 = distiller.fit(x_train100, y_train100, epochs=15, batch_size=128)\n",
        "\n",
        "distiller.evaluate(x_test100, y_test100)"
      ],
      "execution_count": null,
      "outputs": [
        {
          "output_type": "stream",
          "text": [
            "Epoch 1/15\n",
            "391/391 [==============================] - 61s 132ms/step - sparse_categorical_accuracy: 0.1509 - student_loss: 4.8230 - distillation_loss: 1.3018\n",
            "Epoch 2/15\n",
            "391/391 [==============================] - 52s 132ms/step - sparse_categorical_accuracy: 0.4471 - student_loss: 3.1129 - distillation_loss: 0.8943\n",
            "Epoch 3/15\n",
            "391/391 [==============================] - 52s 132ms/step - sparse_categorical_accuracy: 0.5583 - student_loss: 2.2804 - distillation_loss: 0.6739\n",
            "Epoch 4/15\n",
            "391/391 [==============================] - 52s 132ms/step - sparse_categorical_accuracy: 0.6531 - student_loss: 1.7551 - distillation_loss: 0.5373\n",
            "Epoch 5/15\n",
            "391/391 [==============================] - 52s 132ms/step - sparse_categorical_accuracy: 0.7235 - student_loss: 1.3221 - distillation_loss: 0.4235\n",
            "Epoch 6/15\n",
            "391/391 [==============================] - 52s 132ms/step - sparse_categorical_accuracy: 0.7841 - student_loss: 1.0231 - distillation_loss: 0.3464\n",
            "Epoch 7/15\n",
            "391/391 [==============================] - 52s 132ms/step - sparse_categorical_accuracy: 0.8238 - student_loss: 0.8151 - distillation_loss: 0.2913\n",
            "Epoch 8/15\n",
            "391/391 [==============================] - 52s 132ms/step - sparse_categorical_accuracy: 0.8522 - student_loss: 0.6726 - distillation_loss: 0.2542\n",
            "Epoch 9/15\n",
            "391/391 [==============================] - 52s 132ms/step - sparse_categorical_accuracy: 0.8792 - student_loss: 0.5570 - distillation_loss: 0.2269\n",
            "Epoch 10/15\n",
            "391/391 [==============================] - 52s 132ms/step - sparse_categorical_accuracy: 0.8986 - student_loss: 0.4638 - distillation_loss: 0.2123\n",
            "Epoch 11/15\n",
            "391/391 [==============================] - 52s 132ms/step - sparse_categorical_accuracy: 0.9120 - student_loss: 0.4019 - distillation_loss: 0.1986\n",
            "Epoch 12/15\n",
            "391/391 [==============================] - 52s 132ms/step - sparse_categorical_accuracy: 0.9212 - student_loss: 0.3582 - distillation_loss: 0.1855\n",
            "Epoch 13/15\n",
            "391/391 [==============================] - 52s 132ms/step - sparse_categorical_accuracy: 0.9221 - student_loss: 0.3389 - distillation_loss: 0.1771\n",
            "Epoch 14/15\n",
            "391/391 [==============================] - 52s 132ms/step - sparse_categorical_accuracy: 0.9274 - student_loss: 0.3218 - distillation_loss: 0.1717\n",
            "Epoch 15/15\n",
            "391/391 [==============================] - 52s 132ms/step - sparse_categorical_accuracy: 0.9376 - student_loss: 0.2783 - distillation_loss: 0.1633\n",
            "313/313 [==============================] - 5s 14ms/step - sparse_categorical_accuracy: 0.5454 - student_loss: 2.8179\n"
          ],
          "name": "stdout"
        },
        {
          "output_type": "execute_result",
          "data": {
            "text/plain": [
              "[0.5454000234603882, 1.7554209232330322]"
            ]
          },
          "metadata": {
            "tags": []
          },
          "execution_count": 21
        }
      ]
    },
    {
      "cell_type": "code",
      "metadata": {
        "colab": {
          "base_uri": "https://localhost:8080/"
        },
        "id": "RA5isWCcGmJs",
        "outputId": "df45aa3f-e5e9-4929-8fb0-672f83d39ac8"
      },
      "source": [
        "student_scratch100.compile(\n",
        "    optimizer=keras.optimizers.Adam(),\n",
        "    loss=keras.losses.SparseCategoricalCrossentropy(from_logits=True),\n",
        "    metrics=[keras.metrics.SparseCategoricalAccuracy()],\n",
        ")\n",
        "\n",
        "student_trained100 = student_scratch100.fit(x_train100, y_train100, epochs=15, batch_size = 128)\n",
        "student_scratch100.evaluate(x_test100, y_test100)"
      ],
      "execution_count": null,
      "outputs": [
        {
          "output_type": "stream",
          "text": [
            "Epoch 1/15\n",
            "391/391 [==============================] - 34s 74ms/step - loss: 6.3190 - sparse_categorical_accuracy: 0.1067\n",
            "Epoch 2/15\n",
            "391/391 [==============================] - 29s 74ms/step - loss: 4.3098 - sparse_categorical_accuracy: 0.2701\n",
            "Epoch 3/15\n",
            "391/391 [==============================] - 29s 74ms/step - loss: 3.3066 - sparse_categorical_accuracy: 0.3642\n",
            "Epoch 4/15\n",
            "391/391 [==============================] - 29s 74ms/step - loss: 2.6120 - sparse_categorical_accuracy: 0.4525\n",
            "Epoch 5/15\n",
            "391/391 [==============================] - 29s 74ms/step - loss: 2.0510 - sparse_categorical_accuracy: 0.5365\n",
            "Epoch 6/15\n",
            "391/391 [==============================] - 29s 74ms/step - loss: 1.5768 - sparse_categorical_accuracy: 0.6172\n",
            "Epoch 7/15\n",
            "391/391 [==============================] - 29s 74ms/step - loss: 1.1685 - sparse_categorical_accuracy: 0.7028\n",
            "Epoch 8/15\n",
            "391/391 [==============================] - 29s 74ms/step - loss: 0.8409 - sparse_categorical_accuracy: 0.7775\n",
            "Epoch 9/15\n",
            "391/391 [==============================] - 29s 74ms/step - loss: 0.6029 - sparse_categorical_accuracy: 0.8395\n",
            "Epoch 10/15\n",
            "391/391 [==============================] - 29s 74ms/step - loss: 0.4409 - sparse_categorical_accuracy: 0.8815\n",
            "Epoch 11/15\n",
            "391/391 [==============================] - 29s 74ms/step - loss: 0.3362 - sparse_categorical_accuracy: 0.9100\n",
            "Epoch 12/15\n",
            "391/391 [==============================] - 29s 74ms/step - loss: 0.2605 - sparse_categorical_accuracy: 0.9302\n",
            "Epoch 13/15\n",
            "391/391 [==============================] - 29s 74ms/step - loss: 0.2314 - sparse_categorical_accuracy: 0.9377\n",
            "Epoch 14/15\n",
            "391/391 [==============================] - 29s 74ms/step - loss: 0.2179 - sparse_categorical_accuracy: 0.9418\n",
            "Epoch 15/15\n",
            "391/391 [==============================] - 29s 74ms/step - loss: 0.1870 - sparse_categorical_accuracy: 0.9487\n",
            "313/313 [==============================] - 5s 14ms/step - loss: 3.1270 - sparse_categorical_accuracy: 0.4590\n"
          ],
          "name": "stdout"
        },
        {
          "output_type": "execute_result",
          "data": {
            "text/plain": [
              "[3.126997470855713, 0.45899999141693115]"
            ]
          },
          "metadata": {
            "tags": []
          },
          "execution_count": 10
        }
      ]
    },
    {
      "cell_type": "code",
      "metadata": {
        "colab": {
          "base_uri": "https://localhost:8080/",
          "height": 295
        },
        "id": "zR4dZkecGrK_",
        "outputId": "c1bb51e4-579e-46e5-b741-8429bf86bee5"
      },
      "source": [
        "import matplotlib.pyplot as plt\n",
        "\n",
        "plt.plot(teacher_trained100.history['sparse_categorical_accuracy'])\n",
        "plt.plot(distiller_trained100.history['sparse_categorical_accuracy'])\n",
        "plt.plot(student_trained100.history['sparse_categorical_accuracy'])\n",
        "\n",
        "plt.title('model accuracy')\n",
        "plt.ylabel('accuracy')\n",
        "plt.xlabel('epoch')\n",
        "plt.legend(['teacher', 'distilled', 'student'], loc='upper left')\n",
        "plt.show()"
      ],
      "execution_count": null,
      "outputs": [
        {
          "output_type": "display_data",
          "data": {
            "image/png": "[encoded data removed]",
            "text/plain": [
              "<Figure size 432x288 with 1 Axes>"
            ]
          },
          "metadata": {
            "tags": [],
            "needs_background": "light"
          }
        }
      ]
    },
    {
      "cell_type": "markdown",
      "metadata": {
        "id": "PizLeiQlmIdX"
      },
      "source": [
        "# INTERMEDIATE DISTILLATION"
      ]
    },
    {
      "cell_type": "code",
      "metadata": {
        "id": "UU7y38VzlB8u"
      },
      "source": [
        "class DistillerIntermediate(keras.Model):\n",
        "    def __init__(self, student, teacher, intermediate_teacher, intermediate_student):\n",
        "        super(DistillerIntermediate, self).__init__()\n",
        "        self.teacher = teacher\n",
        "        self.student = student\n",
        "        self.intermediate_layer_teacher = intermediate_teacher\n",
        "        self.intermediate_layer_student = intermediate_student\n",
        "        \n",
        "    def compile(\n",
        "        self,\n",
        "        optimizer,\n",
        "        metrics,\n",
        "        distillation_loss_fn,\n",
        "        temperature=3,\n",
        "    ):\n",
        "        super(DistillerIntermediate, self).compile(optimizer=optimizer, metrics=metrics)\n",
        "        self.distillation_loss_fn = distillation_loss_fn\n",
        "        self.temperature = temperature\n",
        "\n",
        "\n",
        "    def train_step(self, data):\n",
        "        x, y = data\n",
        "\n",
        "        intermediate_teacher_predictions = self.intermediate_layer_teacher(x, training=False)\n",
        "\n",
        "        with tf.GradientTape() as tape:\n",
        "            intermediate_student_predictions = self.intermediate_layer_student(x, training=False)\n",
        "\n",
        "            loss = self.distillation_loss_fn(\n",
        "                (intermediate_teacher_predictions / self.temperature),\n",
        "                (intermediate_student_predictions / self.temperature),\n",
        "             )\n",
        "\n",
        "        trainable_vars = self.intermediate_layer_student.trainable_variables\n",
        "        gradients = tape.gradient(loss, trainable_vars)\n",
        "\n",
        "        self.optimizer.apply_gradients(zip(gradients, trainable_vars))\n",
        "\n",
        "        self.compiled_metrics.update_state(intermediate_teacher_predictions, intermediate_student_predictions)\n",
        "\n",
        "        results = {m.name: m.result() for m in self.metrics}\n",
        "        results.update(\n",
        "            {\"student_loss\": loss}\n",
        "        )\n",
        "        return results"
      ],
      "execution_count": null,
      "outputs": []
    },
    {
      "cell_type": "code",
      "metadata": {
        "colab": {
          "base_uri": "https://localhost:8080/"
        },
        "id": "7p1jzjSHOBf4",
        "outputId": "f4b52055-51c4-41a6-93f6-49adab085c61"
      },
      "source": [
        "student = keras.applications.ResNet50V2(\n",
        "    include_top=False,\n",
        "    input_tensor=upscale,\n",
        "    input_shape=input_shape,\n",
        "    pooling='avg',\n",
        "    weights = 'imagenet'\n",
        ")\n",
        "intermediate_teacher = keras.Model(inputs=teacher.input,\n",
        "                                   outputs=teacher.get_layer('conv2_block3_out').output)\n",
        "\n",
        "intermediate_student =  keras.Model(inputs=student.input, \n",
        "                                    outputs = student.get_layer('conv2_block3_out').output)\n",
        "\n",
        "distillerIntermediate = DistillerIntermediate(student=student, \n",
        "                                              teacher = teacher,\n",
        "                                              intermediate_teacher = intermediate_teacher,\n",
        "                                              intermediate_student = intermediate_student\n",
        "                                              )\n",
        "\n",
        "distillerIntermediate.compile(\n",
        "    optimizer=keras.optimizers.Adam(),\n",
        "    metrics=['accuracy'],\n",
        "    distillation_loss_fn=keras.losses.MeanSquaredError(),\n",
        "    temperature=1,\n",
        ")\n",
        "\n",
        "distillerIntermediate.fit(x_train100, y_train100, epochs=10, batch_size=256)"
      ],
      "execution_count": null,
      "outputs": [
        {
          "output_type": "stream",
          "text": [
            "Epoch 1/10\n",
            "196/196 [==============================] - 11s 50ms/step - accuracy: 0.6569 - student_loss: 3.4381\n",
            "Epoch 2/10\n",
            "196/196 [==============================] - 10s 50ms/step - accuracy: 0.8747 - student_loss: 0.5838\n",
            "Epoch 3/10\n",
            "196/196 [==============================] - 10s 50ms/step - accuracy: 0.8920 - student_loss: 0.4035\n",
            "Epoch 4/10\n",
            "196/196 [==============================] - 10s 50ms/step - accuracy: 0.9080 - student_loss: 0.3299\n",
            "Epoch 5/10\n",
            "196/196 [==============================] - 10s 50ms/step - accuracy: 0.9203 - student_loss: 0.2833\n",
            "Epoch 6/10\n",
            "196/196 [==============================] - 10s 50ms/step - accuracy: 0.9283 - student_loss: 0.2517\n",
            "Epoch 7/10\n",
            "196/196 [==============================] - 10s 50ms/step - accuracy: 0.9339 - student_loss: 0.2323\n",
            "Epoch 8/10\n",
            "196/196 [==============================] - 10s 50ms/step - accuracy: 0.9374 - student_loss: 0.2123\n",
            "Epoch 9/10\n",
            "196/196 [==============================] - 10s 50ms/step - accuracy: 0.9404 - student_loss: 0.1993\n",
            "Epoch 10/10\n",
            "196/196 [==============================] - 10s 50ms/step - accuracy: 0.9430 - student_loss: 0.1850\n"
          ],
          "name": "stdout"
        },
        {
          "output_type": "execute_result",
          "data": {
            "text/plain": [
              "<tensorflow.python.keras.callbacks.History at 0x7f0d25afa810>"
            ]
          },
          "metadata": {
            "tags": []
          },
          "execution_count": 13
        }
      ]
    },
    {
      "cell_type": "code",
      "metadata": {
        "id": "lXbh-4M_QDfj"
      },
      "source": [
        "for x in range(40):\n",
        "  weights = intermediate_student.get_layer(index=x).get_weights()\n",
        "  student.get_layer(index = x).set_weights(weights)\n",
        "  student.get_layer(index = x).trainable = False"
      ],
      "execution_count": null,
      "outputs": []
    },
    {
      "cell_type": "code",
      "metadata": {
        "colab": {
          "base_uri": "https://localhost:8080/"
        },
        "id": "8Y-I3_qkoaxw",
        "outputId": "f57dd921-e1ab-40fa-a187-c9da0186351e"
      },
      "source": [
        "intermediate_teacher = keras.Model(inputs=teacher.input,\n",
        "                                   outputs=teacher.get_layer('conv3_block8_out').output)\n",
        "\n",
        "intermediate_student =  keras.Model(inputs=student.input, \n",
        "                                    outputs = student.get_layer('conv3_block4_out').output)\n",
        "\n",
        "distillerIntermediate = DistillerIntermediate(student=student, \n",
        "                                              teacher = teacher,\n",
        "                                              intermediate_teacher = intermediate_teacher,\n",
        "                                              intermediate_student = intermediate_student\n",
        "                                              )\n",
        "\n",
        "\n",
        "distillerIntermediate.compile(\n",
        "    optimizer=keras.optimizers.Adam(),\n",
        "    metrics=['accuracy'],\n",
        "    distillation_loss_fn=keras.losses.MeanSquaredError(),\n",
        "    temperature=1,\n",
        ")\n",
        "distillerIntermediate.fit(x_train100, y_train100, epochs=30, batch_size=256)"
      ],
      "execution_count": null,
      "outputs": [
        {
          "output_type": "stream",
          "text": [
            "Epoch 1/30\n",
            "196/196 [==============================] - 17s 70ms/step - accuracy: 0.1625 - student_loss: 3.5225\n",
            "Epoch 2/30\n",
            "196/196 [==============================] - 14s 70ms/step - accuracy: 0.4625 - student_loss: 1.4329\n",
            "Epoch 3/30\n",
            "196/196 [==============================] - 14s 70ms/step - accuracy: 0.5271 - student_loss: 1.1456\n",
            "Epoch 4/30\n",
            "196/196 [==============================] - 14s 70ms/step - accuracy: 0.5592 - student_loss: 1.0139\n",
            "Epoch 5/30\n",
            "196/196 [==============================] - 14s 70ms/step - accuracy: 0.5768 - student_loss: 0.9344\n",
            "Epoch 6/30\n",
            "196/196 [==============================] - 14s 70ms/step - accuracy: 0.5909 - student_loss: 0.8816\n",
            "Epoch 7/30\n",
            "196/196 [==============================] - 14s 70ms/step - accuracy: 0.6021 - student_loss: 0.8408\n",
            "Epoch 8/30\n",
            "196/196 [==============================] - 14s 70ms/step - accuracy: 0.6071 - student_loss: 0.8135\n",
            "Epoch 9/30\n",
            "196/196 [==============================] - 14s 70ms/step - accuracy: 0.6141 - student_loss: 0.7850\n",
            "Epoch 10/30\n",
            "196/196 [==============================] - 14s 70ms/step - accuracy: 0.6191 - student_loss: 0.7645\n",
            "Epoch 11/30\n",
            "196/196 [==============================] - 14s 70ms/step - accuracy: 0.6241 - student_loss: 0.7476\n",
            "Epoch 12/30\n",
            "196/196 [==============================] - 14s 70ms/step - accuracy: 0.6280 - student_loss: 0.7302\n",
            "Epoch 13/30\n",
            "196/196 [==============================] - 14s 70ms/step - accuracy: 0.6324 - student_loss: 0.7134\n",
            "Epoch 14/30\n",
            "196/196 [==============================] - 14s 70ms/step - accuracy: 0.6364 - student_loss: 0.6997\n",
            "Epoch 15/30\n",
            "196/196 [==============================] - 14s 70ms/step - accuracy: 0.6392 - student_loss: 0.6879\n",
            "Epoch 16/30\n",
            "196/196 [==============================] - 14s 70ms/step - accuracy: 0.6431 - student_loss: 0.6756\n",
            "Epoch 17/30\n",
            "196/196 [==============================] - 14s 70ms/step - accuracy: 0.6438 - student_loss: 0.6670\n",
            "Epoch 18/30\n",
            "196/196 [==============================] - 14s 70ms/step - accuracy: 0.6478 - student_loss: 0.6574\n",
            "Epoch 19/30\n",
            "196/196 [==============================] - 14s 70ms/step - accuracy: 0.6485 - student_loss: 0.6484\n",
            "Epoch 20/30\n",
            "196/196 [==============================] - 14s 70ms/step - accuracy: 0.6531 - student_loss: 0.6372\n",
            "Epoch 21/30\n",
            "196/196 [==============================] - 14s 70ms/step - accuracy: 0.6519 - student_loss: 0.6345\n",
            "Epoch 22/30\n",
            "196/196 [==============================] - 14s 70ms/step - accuracy: 0.6542 - student_loss: 0.6262\n",
            "Epoch 23/30\n",
            "196/196 [==============================] - 14s 70ms/step - accuracy: 0.6572 - student_loss: 0.6174\n",
            "Epoch 24/30\n",
            "196/196 [==============================] - 14s 70ms/step - accuracy: 0.6601 - student_loss: 0.6112\n",
            "Epoch 25/30\n",
            "196/196 [==============================] - 14s 70ms/step - accuracy: 0.6596 - student_loss: 0.6088\n",
            "Epoch 26/30\n",
            "196/196 [==============================] - 14s 70ms/step - accuracy: 0.6618 - student_loss: 0.6023\n",
            "Epoch 27/30\n",
            "196/196 [==============================] - 14s 70ms/step - accuracy: 0.6630 - student_loss: 0.5965\n",
            "Epoch 28/30\n",
            "196/196 [==============================] - 14s 70ms/step - accuracy: 0.6639 - student_loss: 0.5921\n",
            "Epoch 29/30\n",
            "196/196 [==============================] - 14s 70ms/step - accuracy: 0.6663 - student_loss: 0.5867\n",
            "Epoch 30/30\n",
            "196/196 [==============================] - 14s 70ms/step - accuracy: 0.6675 - student_loss: 0.5835\n"
          ],
          "name": "stdout"
        },
        {
          "output_type": "execute_result",
          "data": {
            "text/plain": [
              "<tensorflow.python.keras.callbacks.History at 0x7f0d24f29510>"
            ]
          },
          "metadata": {
            "tags": []
          },
          "execution_count": 15
        }
      ]
    },
    {
      "cell_type": "code",
      "metadata": {
        "id": "iubHYEtxTlS8"
      },
      "source": [
        "for x in range(87):\n",
        "  weights = intermediate_student.get_layer(index=x).get_weights()\n",
        "  student.get_layer(index = x).set_weights(weights)\n",
        "  student.get_layer(index = x).trainable = False"
      ],
      "execution_count": null,
      "outputs": []
    },
    {
      "cell_type": "code",
      "metadata": {
        "colab": {
          "base_uri": "https://localhost:8080/"
        },
        "id": "Mltib9GVoarD",
        "outputId": "927740ca-6a95-4447-c717-5c8e8b099747"
      },
      "source": [
        "intermediate_teacher = keras.Model(inputs=teacher.input,\n",
        "                                   outputs=teacher.get_layer('conv4_block36_out').output)\n",
        "\n",
        "intermediate_student = keras.Model(inputs=student.input, \n",
        "                                    outputs = student.get_layer('conv4_block6_out').output)\n",
        "\n",
        "distillerIntermediate = DistillerIntermediate(student=student, \n",
        "                                              teacher = teacher,\n",
        "                                              intermediate_teacher = intermediate_teacher,\n",
        "                                              intermediate_student = intermediate_student\n",
        "                                              )\n",
        "\n",
        "distillerIntermediate.compile(\n",
        "    optimizer=keras.optimizers.Adam(),\n",
        "    metrics=['accuracy'],\n",
        "    distillation_loss_fn=keras.losses.MeanSquaredError(),\n",
        "    temperature=1,\n",
        ")\n",
        "\n",
        "distillerIntermediate.fit(x_train100, y_train100, epochs=30, batch_size=256)"
      ],
      "execution_count": null,
      "outputs": [
        {
          "output_type": "stream",
          "text": [
            "Epoch 1/30\n",
            "196/196 [==============================] - 37s 155ms/step - accuracy: 0.1407 - student_loss: 1.9982\n",
            "Epoch 2/30\n",
            "196/196 [==============================] - 30s 155ms/step - accuracy: 0.4118 - student_loss: 0.8928\n",
            "Epoch 3/30\n",
            "196/196 [==============================] - 30s 155ms/step - accuracy: 0.4722 - student_loss: 0.7087\n",
            "Epoch 4/30\n",
            "196/196 [==============================] - 30s 155ms/step - accuracy: 0.4975 - student_loss: 0.6311\n",
            "Epoch 5/30\n",
            "196/196 [==============================] - 30s 155ms/step - accuracy: 0.5215 - student_loss: 0.5638\n",
            "Epoch 6/30\n",
            "196/196 [==============================] - 30s 155ms/step - accuracy: 0.5336 - student_loss: 0.5389\n",
            "Epoch 7/30\n",
            "196/196 [==============================] - 30s 155ms/step - accuracy: 0.5429 - student_loss: 0.4996\n",
            "Epoch 8/30\n",
            "196/196 [==============================] - 30s 155ms/step - accuracy: 0.5498 - student_loss: 0.4764\n",
            "Epoch 9/30\n",
            "196/196 [==============================] - 30s 155ms/step - accuracy: 0.5612 - student_loss: 0.4564\n",
            "Epoch 10/30\n",
            "196/196 [==============================] - 30s 155ms/step - accuracy: 0.5645 - student_loss: 0.4426\n",
            "Epoch 11/30\n",
            "196/196 [==============================] - 30s 155ms/step - accuracy: 0.5703 - student_loss: 0.4294\n",
            "Epoch 12/30\n",
            "196/196 [==============================] - 30s 155ms/step - accuracy: 0.5711 - student_loss: 0.4324\n",
            "Epoch 13/30\n",
            "196/196 [==============================] - 30s 155ms/step - accuracy: 0.5696 - student_loss: 0.4254\n",
            "Epoch 14/30\n",
            "196/196 [==============================] - 30s 155ms/step - accuracy: 0.5824 - student_loss: 0.4139\n",
            "Epoch 15/30\n",
            "196/196 [==============================] - 30s 155ms/step - accuracy: 0.5874 - student_loss: 0.3953\n",
            "Epoch 16/30\n",
            "196/196 [==============================] - 30s 155ms/step - accuracy: 0.5910 - student_loss: 0.3846\n",
            "Epoch 17/30\n",
            "196/196 [==============================] - 30s 155ms/step - accuracy: 0.5896 - student_loss: 0.3835\n",
            "Epoch 18/30\n",
            "196/196 [==============================] - 30s 155ms/step - accuracy: 0.5986 - student_loss: 0.3765\n",
            "Epoch 19/30\n",
            "196/196 [==============================] - 30s 155ms/step - accuracy: 0.5911 - student_loss: 0.3784\n",
            "Epoch 20/30\n",
            "196/196 [==============================] - 30s 155ms/step - accuracy: 0.5960 - student_loss: 0.3647\n",
            "Epoch 21/30\n",
            "196/196 [==============================] - 30s 155ms/step - accuracy: 0.5991 - student_loss: 0.3597\n",
            "Epoch 22/30\n",
            "196/196 [==============================] - 30s 155ms/step - accuracy: 0.6007 - student_loss: 0.3611\n",
            "Epoch 23/30\n",
            "196/196 [==============================] - 30s 155ms/step - accuracy: 0.6051 - student_loss: 0.3588\n",
            "Epoch 24/30\n",
            "196/196 [==============================] - 30s 155ms/step - accuracy: 0.6039 - student_loss: 0.3545\n",
            "Epoch 25/30\n",
            "196/196 [==============================] - 30s 155ms/step - accuracy: 0.6083 - student_loss: 0.3524\n",
            "Epoch 26/30\n",
            "196/196 [==============================] - 30s 155ms/step - accuracy: 0.6053 - student_loss: 0.3430\n",
            "Epoch 27/30\n",
            "196/196 [==============================] - 30s 155ms/step - accuracy: 0.6137 - student_loss: 0.3314\n",
            "Epoch 28/30\n",
            "196/196 [==============================] - 30s 155ms/step - accuracy: 0.6143 - student_loss: 0.3322\n",
            "Epoch 29/30\n",
            "196/196 [==============================] - 30s 155ms/step - accuracy: 0.6171 - student_loss: 0.3294\n",
            "Epoch 30/30\n",
            "196/196 [==============================] - 30s 155ms/step - accuracy: 0.6155 - student_loss: 0.3354\n"
          ],
          "name": "stdout"
        },
        {
          "output_type": "execute_result",
          "data": {
            "text/plain": [
              "<tensorflow.python.keras.callbacks.History at 0x7f0d24051cd0>"
            ]
          },
          "metadata": {
            "tags": []
          },
          "execution_count": 17
        }
      ]
    },
    {
      "cell_type": "code",
      "metadata": {
        "id": "9kTCDUfNTso_"
      },
      "source": [
        "for x in range(1,155):\n",
        "  weights = intermediate_student.get_layer(index=x).get_weights()\n",
        "  student.get_layer(index = x).set_weights(weights)\n",
        "  student.get_layer(index = x).trainable = False"
      ],
      "execution_count": null,
      "outputs": []
    },
    {
      "cell_type": "code",
      "metadata": {
        "id": "1VpEU-Un8N9x",
        "colab": {
          "base_uri": "https://localhost:8080/"
        },
        "outputId": "fba430b1-b7a0-4019-fddc-1408a503f237"
      },
      "source": [
        "student1 = keras.models.clone_model(student)\n",
        "distiller = Distiller(student=student1, teacher=teacher)\n",
        "distiller.compile(\n",
        "    optimizer=keras.optimizers.Adam(),\n",
        "    metrics=[keras.metrics.SparseCategoricalAccuracy()],\n",
        "    student_loss_fn=keras.losses.SparseCategoricalCrossentropy(from_logits=True),\n",
        "    distillation_loss_fn=keras.losses.KLDivergence(),\n",
        "    alpha=0.1,\n",
        "    temperature=2,\n",
        ")\n",
        "\n",
        "intermediateHistory = distiller.fit(x_train100, y_train100, epochs=15, batch_size=256)\n",
        "\n",
        "distiller.evaluate(x_test100, y_test100)"
      ],
      "execution_count": null,
      "outputs": [
        {
          "output_type": "stream",
          "text": [
            "Epoch 1/15\n",
            "196/196 [==============================] - 39s 156ms/step - sparse_categorical_accuracy: 0.1273 - student_loss: 5.8843 - distillation_loss: 0.2810\n",
            "Epoch 2/15\n",
            "196/196 [==============================] - 31s 156ms/step - sparse_categorical_accuracy: 0.2487 - student_loss: 4.7491 - distillation_loss: 0.2640\n",
            "Epoch 3/15\n",
            "196/196 [==============================] - 31s 156ms/step - sparse_categorical_accuracy: 0.3129 - student_loss: 4.1053 - distillation_loss: 0.2527\n",
            "Epoch 4/15\n",
            "196/196 [==============================] - 31s 156ms/step - sparse_categorical_accuracy: 0.3705 - student_loss: 3.6016 - distillation_loss: 0.2422\n",
            "Epoch 5/15\n",
            "196/196 [==============================] - 31s 156ms/step - sparse_categorical_accuracy: 0.4330 - student_loss: 3.1214 - distillation_loss: 0.2312\n",
            "Epoch 6/15\n",
            "196/196 [==============================] - 31s 156ms/step - sparse_categorical_accuracy: 0.5128 - student_loss: 2.6547 - distillation_loss: 0.2210\n",
            "Epoch 7/15\n",
            "196/196 [==============================] - 31s 156ms/step - sparse_categorical_accuracy: 0.5865 - student_loss: 2.1898 - distillation_loss: 0.2108\n",
            "Epoch 8/15\n",
            "196/196 [==============================] - 31s 156ms/step - sparse_categorical_accuracy: 0.6731 - student_loss: 1.7436 - distillation_loss: 0.2015\n",
            "Epoch 9/15\n",
            "196/196 [==============================] - 31s 156ms/step - sparse_categorical_accuracy: 0.7560 - student_loss: 1.3463 - distillation_loss: 0.1916\n",
            "Epoch 10/15\n",
            "196/196 [==============================] - 31s 156ms/step - sparse_categorical_accuracy: 0.8127 - student_loss: 1.0459 - distillation_loss: 0.1816\n",
            "Epoch 11/15\n",
            "196/196 [==============================] - 31s 156ms/step - sparse_categorical_accuracy: 0.8503 - student_loss: 0.8497 - distillation_loss: 0.1712\n",
            "Epoch 12/15\n",
            "196/196 [==============================] - 31s 156ms/step - sparse_categorical_accuracy: 0.8835 - student_loss: 0.7074 - distillation_loss: 0.1608\n",
            "Epoch 13/15\n",
            "196/196 [==============================] - 31s 156ms/step - sparse_categorical_accuracy: 0.8982 - student_loss: 0.6252 - distillation_loss: 0.1506\n",
            "Epoch 14/15\n",
            "196/196 [==============================] - 31s 156ms/step - sparse_categorical_accuracy: 0.9007 - student_loss: 0.5838 - distillation_loss: 0.1417\n",
            "Epoch 15/15\n",
            "196/196 [==============================] - 31s 156ms/step - sparse_categorical_accuracy: 0.9078 - student_loss: 0.5448 - distillation_loss: 0.1343\n",
            "313/313 [==============================] - 5s 14ms/step - sparse_categorical_accuracy: 0.2444 - student_loss: 4.3920\n"
          ],
          "name": "stdout"
        },
        {
          "output_type": "execute_result",
          "data": {
            "text/plain": [
              "[0.2443999946117401, 4.1257429122924805]"
            ]
          },
          "metadata": {
            "tags": []
          },
          "execution_count": 19
        }
      ]
    },
    {
      "cell_type": "code",
      "metadata": {
        "colab": {
          "base_uri": "https://localhost:8080/",
          "height": 295
        },
        "id": "FsNiUgZXMs0K",
        "outputId": "1efc9683-7096-4ade-cabd-45fcbd48d279"
      },
      "source": [
        "import matplotlib.pyplot as plt\n",
        "\n",
        "plt.plot(teacher_trained100.history['sparse_categorical_accuracy'])\n",
        "plt.plot(distiller_trained100.history['sparse_categorical_accuracy'])\n",
        "plt.plot(student_trained100.history['sparse_categorical_accuracy'])\n",
        "plt.plot(intermediateHistory.history['sparse_categorical_accuracy'])\n",
        "\n",
        "plt.title('model accuracy')\n",
        "plt.ylabel('accuracy')\n",
        "plt.xlabel('epoch')\n",
        "plt.legend(['teacher', 'distilled', 'student', 'intermediate'], loc='upper left')\n",
        "plt.show()"
      ],
      "execution_count": null,
      "outputs": [
        {
          "output_type": "display_data",
          "data": {
            "image/png": "[encoded data removed]",
            "text/plain": [
              "<Figure size 432x288 with 1 Axes>"
            ]
          },
          "metadata": {
            "tags": [],
            "needs_background": "light"
          }
        }
      ]
    },
    {
      "cell_type": "code",
      "metadata": {
        "id": "Uls24iUijndn"
      },
      "source": [
        ""
      ],
      "execution_count": null,
      "outputs": []
    }
  ]
}